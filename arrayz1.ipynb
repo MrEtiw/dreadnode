{
 "cells": [
  {
   "cell_type": "code",
   "execution_count": 1,
   "metadata": {},
   "outputs": [
    {
     "name": "stdout",
     "output_type": "stream",
     "text": [
      "2\n"
     ]
    }
   ],
   "source": [
    "from dotenv import load_dotenv\n",
    "import os \n",
    "load_dotenv()\n",
    "\n",
    "\n",
    "CHALLENGE = os.getenv(\"CHALLENGE\")\n",
    "CRUCIBLE_URL = os.getenv(\"CRUCIBLE_URL\")\n",
    "CHALLENGE_URL = os.getenv(\"CHALLENGE_URL\")\n",
    "ARTIFACT_FILES = os.getenv(\"ARTIFACT_FILES\")\n",
    "CRUCIBLE_API_KEY = os.getenv(\"CRUCIBLE_API_KEY\")\n"
   ]
  }
 ],
 "metadata": {
  "kernelspec": {
   "display_name": "venv",
   "language": "python",
   "name": "python3"
  },
  "language_info": {
   "codemirror_mode": {
    "name": "ipython",
    "version": 3
   },
   "file_extension": ".py",
   "mimetype": "text/x-python",
   "name": "python",
   "nbconvert_exporter": "python",
   "pygments_lexer": "ipython3",
   "version": "3.13.1"
  }
 },
 "nbformat": 4,
 "nbformat_minor": 2
}
