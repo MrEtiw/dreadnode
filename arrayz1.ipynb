{
 "cells": [
  {
   "cell_type": "code",
   "execution_count": 1,
   "metadata": {},
   "outputs": [],
   "source": [
    "from dotenv import load_dotenv\n",
    "import os \n",
    "load_dotenv()\n",
    "\n",
    "from utils import download_artifact\n",
    "\n",
    "\n",
    "CHALLENGE = \"arrayz1\"\n",
    "CHALLENGE_URL = \"https://arrayz1.platform.dreadnode.io\"\n",
    "ARTIFACT_FILES = ['arrayz1.npy']\n",
    "CRUCIBLE_URL = os.getenv(\"CRUCIBLE_URL\")\n",
    "CRUCIBLE_API_KEY = os.getenv(\"CRUCIBLE_API_KEY\")\n"
   ]
  },
  {
   "cell_type": "code",
   "execution_count": 2,
   "metadata": {},
   "outputs": [
    {
     "name": "stdout",
     "output_type": "stream",
     "text": [
      "https://platform.dreadnode.io/api/artifacts/arrayz1/arrayz1.npy\n",
      "arrayz1.npy was successfully downloaded to data folder\n"
     ]
    }
   ],
   "source": [
    "download_artifact(ARTIFACT_FILES, CRUCIBLE_URL, CHALLENGE, CRUCIBLE_API_KEY)"
   ]
  }
 ],
 "metadata": {
  "kernelspec": {
   "display_name": "venv",
   "language": "python",
   "name": "python3"
  },
  "language_info": {
   "codemirror_mode": {
    "name": "ipython",
    "version": 3
   },
   "file_extension": ".py",
   "mimetype": "text/x-python",
   "name": "python",
   "nbconvert_exporter": "python",
   "pygments_lexer": "ipython3",
   "version": "3.13.1"
  }
 },
 "nbformat": 4,
 "nbformat_minor": 2
}
