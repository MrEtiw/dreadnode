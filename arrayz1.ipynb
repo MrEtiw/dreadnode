{
 "cells": [
  {
   "cell_type": "code",
   "execution_count": 6,
   "metadata": {},
   "outputs": [],
   "source": [
    "from dotenv import load_dotenv\n",
    "import os \n",
    "import numpy as np\n",
    "load_dotenv()\n",
    "\n",
    "from utils import download_artifact, submit_flag\n",
    "\n",
    "\n",
    "CHALLENGE = \"arrayz1\"\n",
    "CHALLENGE_URL = \"https://arrayz1.platform.dreadnode.io\"\n",
    "ARTIFACT_FILES = ['arrayz1.npy']\n",
    "CRUCIBLE_URL = os.getenv(\"CRUCIBLE_URL\")\n",
    "CRUCIBLE_API_KEY = os.getenv(\"CRUCIBLE_API_KEY\")\n"
   ]
  },
  {
   "cell_type": "code",
   "execution_count": 2,
   "metadata": {},
   "outputs": [
    {
     "name": "stdout",
     "output_type": "stream",
     "text": [
      "https://platform.dreadnode.io/api/artifacts/arrayz1/arrayz1.npy\n",
      "arrayz1.npy was successfully downloaded to data folder\n"
     ]
    }
   ],
   "source": [
    "download_artifact(ARTIFACT_FILES, CRUCIBLE_URL, CHALLENGE, CRUCIBLE_API_KEY)"
   ]
  },
  {
   "cell_type": "code",
   "execution_count": 8,
   "metadata": {},
   "outputs": [],
   "source": []
  },
  {
   "cell_type": "code",
   "execution_count": 22,
   "metadata": {},
   "outputs": [],
   "source": [
    "def find_factors(number):\n",
    "    factors = []\n",
    "    for i in range(1, number + 1):\n",
    "        if number % i == 0:\n",
    "            factors.append(i)\n",
    "    return factors\n",
    "\n",
    "data = np.load('./data/arrayz1.npy')\n",
    "nb_bits = len(data)\n",
    "factors = find_factors(nb_bits)\n",
    "data = data.reshape(factors[1], -1)\n"
   ]
  },
  {
   "cell_type": "code",
   "execution_count": null,
   "metadata": {},
   "outputs": [],
   "source": []
  },
  {
   "cell_type": "code",
   "execution_count": null,
   "metadata": {},
   "outputs": [],
   "source": []
  },
  {
   "cell_type": "code",
   "execution_count": 4,
   "metadata": {},
   "outputs": [
    {
     "data": {
      "text/plain": [
       "{'message': 'Try again.'}"
      ]
     },
     "execution_count": 4,
     "metadata": {},
     "output_type": "execute_result"
    }
   ],
   "source": [
    "submit_flag(CHALLENGE_URL, CRUCIBLE_API_KEY, \"Hiiii\")"
   ]
  }
 ],
 "metadata": {
  "kernelspec": {
   "display_name": "venv",
   "language": "python",
   "name": "python3"
  },
  "language_info": {
   "codemirror_mode": {
    "name": "ipython",
    "version": 3
   },
   "file_extension": ".py",
   "mimetype": "text/x-python",
   "name": "python",
   "nbconvert_exporter": "python",
   "pygments_lexer": "ipython3",
   "version": "3.13.1"
  }
 },
 "nbformat": 4,
 "nbformat_minor": 2
}
